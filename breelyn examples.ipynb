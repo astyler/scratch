{
 "cells": [
  {
   "cell_type": "markdown",
   "metadata": {},
   "source": [
    "First up, lists and list comprehension.  List comprehension creates a new list, evaluating some expression for each element in an iterable object. \n",
    "\n",
    "In this example, we create a list of doubled values for each element in our list, l\n",
    "\n"
   ]
  },
  {
   "cell_type": "code",
   "execution_count": 8,
   "metadata": {
    "collapsed": false
   },
   "outputs": [
    {
     "name": "stdout",
     "output_type": "stream",
     "text": [
      "[0, 8, 14, 4, 18, 2]\n"
     ]
    }
   ],
   "source": [
    "l = [0,4,7,2,9,1]\n",
    "\n",
    "ld = [ i*2 for i in l ]\n",
    "\n",
    "print ld"
   ]
  },
  {
   "cell_type": "markdown",
   "metadata": {},
   "source": [
    "enumerate will create an iterable object that is a list of tuples of the form (index, value).  You can iterate over this, but otherwise can't print it directly"
   ]
  },
  {
   "cell_type": "code",
   "execution_count": 11,
   "metadata": {
    "collapsed": false
   },
   "outputs": [
    {
     "name": "stdout",
     "output_type": "stream",
     "text": [
      "[(0, 0), (1, 4), (2, 7), (3, 2), (4, 9), (5, 1)]\n",
      "[(0, 0), (4, 1), (7, 2), (2, 3), (9, 4), (1, 5)]\n",
      "(9, 4)\n"
     ]
    }
   ],
   "source": [
    "el = [i for i in enumerate(l)]\n",
    "print el\n",
    "\n",
    "#Lets create the same list, but reverse the order of the tuple\n",
    "rl = [(val,idx) for (idx,val) in enumerate(l)]\n",
    "print rl\n",
    "\n",
    "#Taking the max over this will take the max of the first element of the tuple, but return the whole thing\n",
    "print max(rl)"
   ]
  },
  {
   "cell_type": "markdown",
   "metadata": {},
   "source": [
    "Now, if you have a list of values and a list of names, you can use the excellent tool zip, to zip them up to a single list of tuples.\n"
   ]
  },
  {
   "cell_type": "code",
   "execution_count": 12,
   "metadata": {
    "collapsed": false
   },
   "outputs": [
    {
     "name": "stdout",
     "output_type": "stream",
     "text": [
      "[(0, 'atype'), (9, 'btype'), (1, 'rtype')]\n",
      "(9, 'btype')\n"
     ]
    }
   ],
   "source": [
    "names = ['atype','btype','rtype']\n",
    "vals = [0, 9, 1]\n",
    "tl = zip(vals, names)\n",
    "print tl\n",
    "print max(tl)"
   ]
  },
  {
   "cell_type": "markdown",
   "metadata": {},
   "source": [
    "Next up, dictionaries.  We could zip up the values and keys, or we can get the items and use list coprehension to reverse the tuple"
   ]
  },
  {
   "cell_type": "code",
   "execution_count": 13,
   "metadata": {
    "collapsed": false
   },
   "outputs": [
    {
     "name": "stdout",
     "output_type": "stream",
     "text": [
      "[1, 0, 9]\n",
      "['rtype', 'atype', 'btype']\n",
      "[(1, 'rtype'), (0, 'atype'), (9, 'btype')]\n",
      "(9, 'btype')\n",
      "(9, 'btype')\n"
     ]
    }
   ],
   "source": [
    "d = {'atype':0,'btype':9,'rtype':1}\n",
    "print d.values()\n",
    "print d.keys()\n",
    "print zip(d.values(),d.keys())\n",
    "print max( [(v, k) for (v, k) in zip(d.values(),d.keys())] )\n",
    "print max( [(v, k) for (k, v) in d.items()] )"
   ]
  },
  {
   "cell_type": "code",
   "execution_count": null,
   "metadata": {
    "collapsed": true
   },
   "outputs": [],
   "source": []
  }
 ],
 "metadata": {
  "kernelspec": {
   "display_name": "Python 2",
   "language": "python",
   "name": "python2"
  },
  "language_info": {
   "codemirror_mode": {
    "name": "ipython",
    "version": 2
   },
   "file_extension": ".py",
   "mimetype": "text/x-python",
   "name": "python",
   "nbconvert_exporter": "python",
   "pygments_lexer": "ipython2",
   "version": "2.7.10"
  }
 },
 "nbformat": 4,
 "nbformat_minor": 0
}
