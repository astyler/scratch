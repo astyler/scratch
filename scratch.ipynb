{
 "cells": [
  {
   "cell_type": "code",
   "execution_count": 1,
   "metadata": {
    "collapsed": true
   },
   "outputs": [],
   "source": [
    "from matplotlib.patches import Path, Rectangle, PathPatch\n",
    "import matplotlib.pyplot as plt"
   ]
  },
  {
   "cell_type": "code",
   "execution_count": 3,
   "metadata": {
    "collapsed": false
   },
   "outputs": [],
   "source": [
    "import fiona as fio\n",
    "shape_file = fio.open('shapefiles/pittsburgh/polygon.shp')"
   ]
  },
  {
   "cell_type": "code",
   "execution_count": 55,
   "metadata": {
    "collapsed": false
   },
   "outputs": [
    {
     "name": "stdout",
     "output_type": "stream",
     "text": [
      "[(-80.1003849, 40.6083405), (-80.0999876, 40.608292), (-80.0996979, 40.608292), (-80.0995802, 40.6083079), (-80.0997519, 40.6115577), (-80.0986291, 40.6115577), (-80.0986361, 40.6108817), (-80.0977456, 40.6108898), (-80.0977456, 40.6106048), (-80.0972735, 40.6105885), (-80.0970782, 40.6104598), (-80.0969414, 40.6105534), (-80.0967456, 40.6105025), (-80.0967263, 40.6103034), (-80.0965761, 40.6100754), (-80.0965391, 40.6098693), (-80.0964049, 40.6096962), (-80.0963298, 40.6095374), (-80.0963594, 40.6093887), (-80.0964398, 40.6092828), (-80.0965954, 40.6093684), (-80.0965927, 40.6094824), (-80.0968609, 40.6094722), (-80.0970058, 40.6094172), (-80.0970728, 40.6093521), (-80.096936, 40.609291), (-80.0969012, 40.6092095), (-80.0966812, 40.6091709), (-80.0966544, 40.6090772), (-80.0966249, 40.6089632), (-80.0966008, 40.6087738), (-80.0965525, 40.6083543), (-80.096531, 40.6081507), (-80.0964076, 40.6081975), (-80.0964157, 40.6089428), (-80.0962145, 40.6089163), (-80.0960992, 40.6089102), (-80.0960107, 40.6089754), (-80.0958149, 40.6090222), (-80.0957178, 40.6088047), (-80.0956137, 40.6086048), (-80.0956593, 40.6085559), (-80.0957103, 40.6085091), (-80.0956727, 40.6084765), (-80.0955654, 40.6084745), (-80.095485, 40.6084663), (-80.0954281, 40.6083975), (-80.0954496, 40.6081694), (-80.0957639, 40.6080957), (-80.0958444, 40.6080876), (-80.096016, 40.6081853), (-80.0962735, 40.6082892), (-80.0965439, 40.6080065), (-80.0966298, 40.6074038), (-80.0959791, 40.6074038), (-80.0953316, 40.6073794), (-80.0951063, 40.6071513), (-80.0949668, 40.6063856), (-80.0953423, 40.6063286), (-80.0953101, 40.6055792), (-80.096147, 40.6055874), (-80.0962076, 40.6058346), (-80.0975417, 40.6058155), (-80.0994622, 40.6058155), (-80.0995303, 40.607192), (-80.1002669, 40.6071757), (-80.1003849, 40.6083405)]\n",
      "1.48751091957\n"
     ]
    }
   ],
   "source": [
    "len(shape_file)\n",
    "import numpy as np\n",
    "import time\n",
    "\n",
    "t = time.time()\n",
    "clist = []\n",
    "for shape in shape_file:\n",
    "    geo = shape['geometry']\n",
    "    if geo['type'] == 'MultiPolygon':\n",
    "        clist.extend(p[0] for p in geo['coordinates'])\n",
    "        break\n",
    "\n",
    "\n",
    "print clist[0]\n",
    "print time.time() - t"
   ]
  },
  {
   "cell_type": "code",
   "execution_count": 11,
   "metadata": {
    "collapsed": false
   },
   "outputs": [
    {
     "data": {
      "text/plain": [
       "{'coordinates': [[(-80.7109843, 40.1501852),\n",
       "   (-80.7108449, 40.1549742),\n",
       "   (-80.7097827, 40.157303),\n",
       "   (-80.7095896, 40.1572948),\n",
       "   (-80.709259, 40.1579094),\n",
       "   (-80.7074116, 40.1573276),\n",
       "   (-80.7073365, 40.1574588),\n",
       "   (-80.7069825, 40.1573604),\n",
       "   (-80.7109843, 40.1501852)]],\n",
       " 'type': 'Polygon'}"
      ]
     },
     "execution_count": 11,
     "metadata": {},
     "output_type": "execute_result"
    }
   ],
   "source": [
    "shape_file[0]['geometry']"
   ]
  },
  {
   "cell_type": "code",
   "execution_count": 9,
   "metadata": {
    "collapsed": false
   },
   "outputs": [
    {
     "ename": "NameError",
     "evalue": "name 'plt' is not defined",
     "output_type": "error",
     "traceback": [
      "\u001b[0;31m---------------------------------------------------------------------------\u001b[0m",
      "\u001b[0;31mNameError\u001b[0m                                 Traceback (most recent call last)",
      "\u001b[0;32m<ipython-input-9-7f48823864a6>\u001b[0m in \u001b[0;36m<module>\u001b[0;34m()\u001b[0m\n\u001b[1;32m      1\u001b[0m \u001b[0mget_ipython\u001b[0m\u001b[0;34m(\u001b[0m\u001b[0;34m)\u001b[0m\u001b[0;34m.\u001b[0m\u001b[0mmagic\u001b[0m\u001b[0;34m(\u001b[0m\u001b[0;34mu'matplotlib inline'\u001b[0m\u001b[0;34m)\u001b[0m\u001b[0;34m\u001b[0m\u001b[0m\n\u001b[0;32m----> 2\u001b[0;31m \u001b[0max\u001b[0m \u001b[0;34m=\u001b[0m \u001b[0mplt\u001b[0m\u001b[0;34m.\u001b[0m\u001b[0msubplot\u001b[0m\u001b[0;34m(\u001b[0m\u001b[0;36m111\u001b[0m\u001b[0;34m)\u001b[0m\u001b[0;34m\u001b[0m\u001b[0m\n\u001b[0m\u001b[1;32m      3\u001b[0m \u001b[0mpp\u001b[0m \u001b[0;34m=\u001b[0m \u001b[0mPathPatch\u001b[0m\u001b[0;34m(\u001b[0m\u001b[0mpath1\u001b[0m\u001b[0;34m,\u001b[0m \u001b[0mfacecolor\u001b[0m\u001b[0;34m=\u001b[0m\u001b[0;34m'blue'\u001b[0m\u001b[0;34m)\u001b[0m\u001b[0;34m\u001b[0m\u001b[0m\n\u001b[1;32m      4\u001b[0m \u001b[0max\u001b[0m\u001b[0;34m.\u001b[0m\u001b[0madd_patch\u001b[0m\u001b[0;34m(\u001b[0m\u001b[0mpp\u001b[0m\u001b[0;34m)\u001b[0m\u001b[0;34m\u001b[0m\u001b[0m\n\u001b[1;32m      5\u001b[0m \u001b[0;34m\u001b[0m\u001b[0m\n",
      "\u001b[0;31mNameError\u001b[0m: name 'plt' is not defined"
     ]
    }
   ],
   "source": [
    "%matplotlib inline\n",
    "ax = plt.subplot(111)\n",
    "pp = PathPatch(path1, facecolor='blue')\n",
    "ax.add_patch(pp)\n",
    "\n",
    "plt.xlim([0,2])\n",
    "plt.ylim([0,2])\n",
    "\n",
    "plt.show()"
   ]
  },
  {
   "cell_type": "code",
   "execution_count": 7,
   "metadata": {
    "collapsed": true
   },
   "outputs": [],
   "source": []
  },
  {
   "cell_type": "code",
   "execution_count": 34,
   "metadata": {
    "collapsed": false
   },
   "outputs": [
    {
     "name": "stdout",
     "output_type": "stream",
     "text": [
      "0\n"
     ]
    }
   ],
   "source": [
    "from matplotlib.transforms import Bbox\n",
    "bb1 =  Bbox([[0,0],[.5,.5]])\n",
    "bb2 = Bbox([(-2,-2),(-1,-1)])\n",
    "print path1.intersects_bbox(bb2)\n",
    "\n"
   ]
  },
  {
   "cell_type": "code",
   "execution_count": null,
   "metadata": {
    "collapsed": true
   },
   "outputs": [],
   "source": []
  }
 ],
 "metadata": {
  "kernelspec": {
   "display_name": "Python 2",
   "language": "python",
   "name": "python2"
  },
  "language_info": {
   "codemirror_mode": {
    "name": "ipython",
    "version": 2
   },
   "file_extension": ".py",
   "mimetype": "text/x-python",
   "name": "python",
   "nbconvert_exporter": "python",
   "pygments_lexer": "ipython2",
   "version": "2.7.10"
  }
 },
 "nbformat": 4,
 "nbformat_minor": 0
}
